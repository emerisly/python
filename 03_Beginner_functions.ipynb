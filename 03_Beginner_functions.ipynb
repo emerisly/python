{
 "cells": [
  {
   "cell_type": "markdown",
   "metadata": {},
   "source": [
    "## Beginner Functions\n",
    "\n",
    "These excersices are to better understand the syntax of functions in Python\n",
    "\n",
    "Tools like for loops, while loops, and if statements will be used"
   ]
  },
  {
   "cell_type": "markdown",
   "metadata": {},
   "source": [
    "## Demo"
   ]
  },
  {
   "cell_type": "code",
   "execution_count": 2,
   "metadata": {},
   "outputs": [],
   "source": [
    "# you can comment code that has the '#' in front btw\n",
    "\n",
    "#I will make a function that adds 2 numbers together called 'add2'\n",
    "\n",
    "def add2(a,b): #this function takes 2 inputs, a and b\n",
    "    s = a+b #s is the sum of input numbers a and b\n",
    "    return s #return statement makes it so you have output from your function\n"
   ]
  },
  {
   "cell_type": "code",
   "execution_count": 4,
   "metadata": {
    "scrolled": true
   },
   "outputs": [
    {
     "data": {
      "text/plain": [
       "18"
      ]
     },
     "execution_count": 4,
     "metadata": {},
     "output_type": "execute_result"
    }
   ],
   "source": [
    "#now we can call the function with 2 inputs\n",
    "add2(10,8)"
   ]
  },
  {
   "cell_type": "code",
   "execution_count": null,
   "metadata": {},
   "outputs": [],
   "source": []
  },
  {
   "cell_type": "code",
   "execution_count": 6,
   "metadata": {},
   "outputs": [
    {
     "name": "stdout",
     "output_type": "stream",
     "text": [
      "output\n",
      "output\n",
      "output\n",
      "output\n",
      "output\n",
      "output\n",
      "output\n",
      "output\n",
      "output\n",
      "output\n"
     ]
    }
   ],
   "source": [
    "#now lets look at for loops\n",
    "# a for loop is a loop that will do something over and over for however many times you tell it to\n",
    "\n",
    "#this will output the work 'output' 10 times\n",
    "for i in range(10):\n",
    "    print('output')"
   ]
  },
  {
   "cell_type": "code",
   "execution_count": null,
   "metadata": {},
   "outputs": [],
   "source": []
  },
  {
   "cell_type": "code",
   "execution_count": 2,
   "metadata": {},
   "outputs": [
    {
     "name": "stdout",
     "output_type": "stream",
     "text": [
      "the value of n is currently 1\n",
      "the value of n is currently 2\n",
      "the value of n is currently 3\n",
      "the value of n is currently 4\n",
      "the value of n is currently 5\n",
      "the value of n is currently 6\n",
      "the value of n is currently 7\n",
      "the value of n is currently 8\n",
      "the value of n is currently 9\n"
     ]
    }
   ],
   "source": [
    "#a while loop is a loop that will continue on until some criteria is met\n",
    "\n",
    "n=1 #initialize a counter\n",
    "while (n<10): #stay in loop until n>10\n",
    "    print('the value of n is currently', n) #print statement for n\n",
    "    n=n+1 #add 1 to n - if you dont do this the loop for go on forever!"
   ]
  },
  {
   "cell_type": "code",
   "execution_count": null,
   "metadata": {},
   "outputs": [],
   "source": []
  },
  {
   "cell_type": "code",
   "execution_count": null,
   "metadata": {},
   "outputs": [],
   "source": []
  },
  {
   "cell_type": "markdown",
   "metadata": {},
   "source": [
    "## Excersices"
   ]
  },
  {
   "cell_type": "markdown",
   "metadata": {},
   "source": [
    "<b> Function #1 </b>\n",
    "\n",
    "Make a function called  <b> abs_value </b> that will take in 1 number, n. The function will return the absolute value of the number n\n",
    "\n",
    "EX: input -4\n",
    "\n",
    "output 4"
   ]
  },
  {
   "cell_type": "code",
   "execution_count": 2,
   "metadata": {},
   "outputs": [
    {
     "data": {
      "text/plain": [
       "4"
      ]
     },
     "execution_count": 2,
     "metadata": {},
     "output_type": "execute_result"
    }
   ],
   "source": [
    "def abs_value(a):\n",
    "    ans=abs(a)\n",
    "    return ans\n",
    "abs_value(-4)"
   ]
  },
  {
   "cell_type": "markdown",
   "metadata": {},
   "source": [
    "# <b> Function #2 </b>\n",
    "\n",
    "Make a function called  <b> sq_list </b> that will take in a list of numbers. The function will return a list of numbers were each value in the initial list is now squared\n",
    "\n",
    "EX: input [1,2,3] \n",
    "\n",
    "output [1,4,9]"
   ]
  },
  {
   "cell_type": "code",
   "execution_count": 6,
   "metadata": {},
   "outputs": [
    {
     "name": "stdout",
     "output_type": "stream",
     "text": [
      "1 4 9 "
     ]
    }
   ],
   "source": [
    "def sq_list(alist):\n",
    "    for num in alist:\n",
    "        print(num*num, end=\" \")\n",
    "sq_list([1,2,3])"
   ]
  },
  {
   "cell_type": "markdown",
   "metadata": {},
   "source": [
    "<b> Function #2.2 </b>\n",
    "\n",
    "Make a function called  <b> sq_list_sum </b> that will take in a list of numbers. The function will use your function <b> sq_list </b> within the function and then find the sum of the list that is outputed from sq_list\n",
    "\n",
    "EX: input [1,2,3]\n",
    "\n",
    "output 14"
   ]
  },
  {
   "cell_type": "code",
   "execution_count": 7,
   "metadata": {},
   "outputs": [
    {
     "data": {
      "text/plain": [
       "6"
      ]
     },
     "execution_count": 7,
     "metadata": {},
     "output_type": "execute_result"
    }
   ],
   "source": [
    "def sq_list_sum(alist):\n",
    "    ans=0\n",
    "    for num in alist:\n",
    "        ans+=num\n",
    "    return ans\n",
    "sq_list_sum([1,2,3])"
   ]
  },
  {
   "cell_type": "markdown",
   "metadata": {},
   "source": [
    "<b> Function #3 </b>\n",
    "\n",
    "Make a function called  <b> rev_list </b> that will take in a list. The function will return a list that is now in the opposite order of what was input\n",
    "\n",
    "EX: input [1,2,'hi',5]\n",
    "\n",
    "output [5,'hi',2,1]"
   ]
  },
  {
   "cell_type": "code",
   "execution_count": 9,
   "metadata": {},
   "outputs": [
    {
     "name": "stdout",
     "output_type": "stream",
     "text": [
      "[5, 'hi', 2, 1]\n"
     ]
    }
   ],
   "source": [
    "def rev_list(alist):\n",
    "    newlist=[]\n",
    "    for ele in alist:\n",
    "        newlist.insert(0,ele)\n",
    "    return newlist\n",
    "print(rev_list([1,2,'hi',5]))"
   ]
  },
  {
   "cell_type": "markdown",
   "metadata": {},
   "source": [
    "<b> Function #4 </b>\n",
    "\n",
    "Make a function called <b> countdown </b> that will take in a positive integer, n. The function will print a countdown in the form \"i seconds until liftoff\" where i is a value from n down to 1.\n",
    "\n",
    "When n becomes 0 have the function print \"Liftoff!\"\n",
    "\n",
    "You do not need to have the print statements spaced 1 second apart, but can if you wish\n",
    "\n",
    "EX: input 3\n",
    "\n",
    "output \n",
    "\n",
    "3 seconds until liftoff \\\n",
    "2 seconds until liftoff \\\n",
    "1 second until liftoff \\\n",
    "Liftoff!"
   ]
  },
  {
   "cell_type": "code",
   "execution_count": 14,
   "metadata": {},
   "outputs": [
    {
     "name": "stdout",
     "output_type": "stream",
     "text": [
      "3 seconds until liftoff\n",
      "2 seconds until liftoff\n",
      "1 seconds until liftoff\n",
      "Liftoff!\n"
     ]
    }
   ],
   "source": [
    "def countdown(n):\n",
    "    while(n>0):\n",
    "        print(n,\"seconds until liftoff\")\n",
    "        n-=1\n",
    "    print(\"Liftoff!\")\n",
    "countdown(3)"
   ]
  },
  {
   "cell_type": "markdown",
   "metadata": {},
   "source": [
    "<b> Function #5 </b>\n",
    "\n",
    "Make a function called  <b> list_to_int </b> that will take in a list of numbers. The function will return a list of the values in integer form\n",
    "\n",
    "EX: input [2, 3.4, 5.8]\n",
    "\n",
    "output [2, 3, 5]"
   ]
  },
  {
   "cell_type": "code",
   "execution_count": 28,
   "metadata": {},
   "outputs": [
    {
     "data": {
      "text/plain": [
       "[2, 3, 5]"
      ]
     },
     "execution_count": 28,
     "metadata": {},
     "output_type": "execute_result"
    }
   ],
   "source": [
    "import math\n",
    "def list_to_int(alist):\n",
    "    newlist=[]\n",
    "    for ele in alist:\n",
    "        n=math.floor(ele)\n",
    "        newlist.append(n)\n",
    "    return newlist\n",
    "list_to_int([2,3.4,5.8])"
   ]
  },
  {
   "cell_type": "markdown",
   "metadata": {},
   "source": [
    "<b> Function #6 </b>\n",
    "\n",
    "Make a function called  <b> evens_and_odds </b> that will take in a list of integer numbers. The function will return 2 lists, the first of which will be the list of all even numbers from the input list, the 2nd being the list of all odd numbers from the initial list\n",
    "\n",
    "EX: input [2,4,8,5,3,6]\n",
    "\n",
    "output \\\n",
    "[2,4,8,6] \\\n",
    "[5,3]\n",
    "\n",
    "If you'd like an extra task, have the lists be sorted in ascending order (smallest to largest)"
   ]
  },
  {
   "cell_type": "code",
   "execution_count": 32,
   "metadata": {},
   "outputs": [
    {
     "data": {
      "text/plain": [
       "([2, 4, 6, 8], [3, 5])"
      ]
     },
     "execution_count": 32,
     "metadata": {},
     "output_type": "execute_result"
    }
   ],
   "source": [
    "def evens_and_odds(alist):\n",
    "    even=[]\n",
    "    odd=[]\n",
    "    for ele in alist:\n",
    "        if(ele%2==0):\n",
    "            even.append(ele)\n",
    "        else:\n",
    "            odd.append(ele)\n",
    "        #even.sort()\n",
    "        #odd.sort()\n",
    "        even=sort(even)\n",
    "        pdd=sort(odd)\n",
    "    return even,odd\n",
    "\n",
    "def sort(arr):\n",
    "    leng=len(arr)\n",
    "    for i in range(leng):\n",
    "        for j in range(0,leng-i-1):\n",
    "            if arr[j]>arr[j+1]:\n",
    "                arr[j],arr[j+1]=arr[j+1],arr[j]\n",
    "    return arr\n",
    "\n",
    "evens_and_odds([2,4,8,5,3,6])\n"
   ]
  },
  {
   "cell_type": "markdown",
   "metadata": {},
   "source": [
    "<b> Function #7 </b>\n",
    "\n",
    "Make a function called  <b> flip_string </b> that will take in a string. The function will return a string that is flipped\n",
    "\n",
    "EX: input 'hello'\n",
    "\n",
    "output 'olleh'"
   ]
  },
  {
   "cell_type": "code",
   "execution_count": 35,
   "metadata": {},
   "outputs": [
    {
     "data": {
      "text/plain": [
       "'olleh'"
      ]
     },
     "execution_count": 35,
     "metadata": {},
     "output_type": "execute_result"
    }
   ],
   "source": [
    "def flip_string(str):\n",
    "    newS=\"\"\n",
    "    for c in str:\n",
    "        newS=c+newS;\n",
    "    return newS\n",
    "flip_string('hello')"
   ]
  }
 ],
 "metadata": {
  "kernelspec": {
   "display_name": "Python 3",
   "language": "python",
   "name": "python3"
  },
  "language_info": {
   "codemirror_mode": {
    "name": "ipython",
    "version": 3
   },
   "file_extension": ".py",
   "mimetype": "text/x-python",
   "name": "python",
   "nbconvert_exporter": "python",
   "pygments_lexer": "ipython3",
   "version": "3.7.4"
  }
 },
 "nbformat": 4,
 "nbformat_minor": 4
}
