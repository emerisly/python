{
 "cells": [
  {
   "cell_type": "markdown",
   "metadata": {},
   "source": [
    "## Libraries in Python\n",
    "\n",
    "So far we have only been using \"Base Python\" which means Python without any libraries in use. It has only the base functions that come with python. There are thousands of libraries that have different purposes. Some of them are as basic as giving you special math operators (like factorials), others are used for plotting, others for data analysis, and other for machine learning. There are typically multiple libraries that accomplish the same thing. For example with machine learning there are many competing libraries, some do certain things better than others and thats just something to find out as you go. We are a ways away from machine learning however.\n"
   ]
  },
  {
   "cell_type": "code",
   "execution_count": 2,
   "metadata": {},
   "outputs": [
    {
     "ename": "NameError",
     "evalue": "name 'sqrt' is not defined",
     "output_type": "error",
     "traceback": [
      "\u001b[1;31m---------------------------------------------------------------------------\u001b[0m",
      "\u001b[1;31mNameError\u001b[0m                                 Traceback (most recent call last)",
      "\u001b[1;32m<ipython-input-2-99f16228bf4a>\u001b[0m in \u001b[0;36m<module>\u001b[1;34m\u001b[0m\n\u001b[0;32m      1\u001b[0m \u001b[1;31m#lets take the sqaure root of 4\u001b[0m\u001b[1;33m\u001b[0m\u001b[1;33m\u001b[0m\u001b[1;33m\u001b[0m\u001b[0m\n\u001b[1;32m----> 2\u001b[1;33m \u001b[0msqrt\u001b[0m\u001b[1;33m(\u001b[0m\u001b[1;36m4\u001b[0m\u001b[1;33m)\u001b[0m\u001b[1;33m\u001b[0m\u001b[1;33m\u001b[0m\u001b[0m\n\u001b[0m",
      "\u001b[1;31mNameError\u001b[0m: name 'sqrt' is not defined"
     ]
    }
   ],
   "source": [
    "#lets take the sqaure root of 4\n",
    "sqrt(4)"
   ]
  },
  {
   "cell_type": "markdown",
   "metadata": {},
   "source": [
    "The sqrt function didn't work? Thats because even something as basical as the 'sqrt' function is not in base python. A work around to this would be 4\\*\\*(0.5) where the ** operator raises something to another power."
   ]
  },
  {
   "cell_type": "code",
   "execution_count": null,
   "metadata": {},
   "outputs": [],
   "source": [
    "4**(0.5) #notice is becomes a float (aka decimal) now - not important right now"
   ]
  },
  {
   "cell_type": "markdown",
   "metadata": {},
   "source": [
    "Instead we are going to import some libraries that can get us these basic math operators. 2 of which are the library 'math' and the library 'numpy'\n",
    "\n",
    "Below is how to import librarys\n",
    "\n",
    "Once you do this \"import\" step you do not need to re-do this unless you closed out of Jupyter or lost connection to the server\n",
    "\n",
    "Some libraries would need to be installed to your Anaconda hub if it is not already existent, so if you get an error loading (that isn't a typo) you may need to install it, google how."
   ]
  },
  {
   "cell_type": "code",
   "execution_count": 2,
   "metadata": {},
   "outputs": [],
   "source": [
    "import math\n",
    "import numpy as np   #the \"as np\" just renames the library to 'np', just shorter writing"
   ]
  },
  {
   "cell_type": "code",
   "execution_count": 9,
   "metadata": {},
   "outputs": [
    {
     "data": {
      "text/plain": [
       "2.0"
      ]
     },
     "execution_count": 9,
     "metadata": {},
     "output_type": "execute_result"
    }
   ],
   "source": [
    "math.sqrt(4)"
   ]
  },
  {
   "cell_type": "code",
   "execution_count": 10,
   "metadata": {},
   "outputs": [
    {
     "data": {
      "text/plain": [
       "2.0"
      ]
     },
     "execution_count": 10,
     "metadata": {},
     "output_type": "execute_result"
    }
   ],
   "source": [
    "np.sqrt(4)"
   ]
  },
  {
   "cell_type": "markdown",
   "metadata": {},
   "source": [
    "Now we can do the sqrt() function! note that you first call the library and then do a dot opperator on it for the function that you want.\n",
    "\n",
    "This basically tells python \"go look into this library for this function\"\n",
    "\n",
    "To see some of the functions at your disposal you could do something like 'np.s' and then hit the tab key, this will bring up a list of all the functions that numpy has that begin with the letter s\n",
    "\n",
    "The numpy library is used more than the math library for most people using python. It is a lot more fleshed out, being able to do most operations that invovle numbers. A numpy array is essentially a list but built through numpy and it behaves much nicer than do base python lists."
   ]
  },
  {
   "cell_type": "code",
   "execution_count": null,
   "metadata": {},
   "outputs": [],
   "source": [
    "#if you want documentation for a function you can do\n",
    "#help(function)\n",
    "#I tend to just google the function and find the documentation there, usually in a nicer format"
   ]
  },
  {
   "cell_type": "code",
   "execution_count": null,
   "metadata": {},
   "outputs": [],
   "source": [
    "#I like random numbers, numpy has a lot of ways to get random numbers\n",
    "# This will generate 100 random integers from 1 to 9\n",
    "np.random.randint(low=1,high=10, size=100)\n",
    "\n",
    "#notice how you can set the input variable, the documentation tells that there is the input variable \n",
    "# 'low','high','size' which I explicitly set here"
   ]
  },
  {
   "cell_type": "code",
   "execution_count": null,
   "metadata": {},
   "outputs": [],
   "source": [
    "#this will generate 10 random decimals (called floats) between 0 and 1\n",
    "np.random.random_sample(10)\n",
    "\n",
    "#Notice the output says array in front, that is because it is a numpy array"
   ]
  },
  {
   "cell_type": "code",
   "execution_count": null,
   "metadata": {},
   "outputs": [],
   "source": []
  },
  {
   "cell_type": "markdown",
   "metadata": {},
   "source": [
    "Some other really important libraries that we will be seeing are:\n",
    "- matplotlib.pyplot - this has all of your plotting needs\n",
    "- pandas - this is the main library for data analysis\n",
    "- scikit-learn - this is a very good machine learning library\n",
    "- scipy - All around important tools for machine learning/data analysis\n",
    "- BeautifulSoup - not only is this name amazing but it also can do parsing which deals with reading HTML file (aka website)"
   ]
  },
  {
   "cell_type": "code",
   "execution_count": null,
   "metadata": {},
   "outputs": [],
   "source": []
  },
  {
   "cell_type": "markdown",
   "metadata": {},
   "source": [
    "## Excercises"
   ]
  },
  {
   "cell_type": "markdown",
   "metadata": {},
   "source": [
    "**#1**\n",
    "\n",
    "Import the scipy library"
   ]
  },
  {
   "cell_type": "code",
   "execution_count": 1,
   "metadata": {},
   "outputs": [],
   "source": [
    "import scipy"
   ]
  },
  {
   "cell_type": "markdown",
   "metadata": {},
   "source": [
    "**#2**\n",
    "\n",
    "Import the matplotlib.pyplot library but call it 'plt' and import the pandas library but call it 'pd'"
   ]
  },
  {
   "cell_type": "code",
   "execution_count": 2,
   "metadata": {},
   "outputs": [],
   "source": [
    "import matplotlib.pyplot as plt\n",
    "import pandas as pd"
   ]
  },
  {
   "cell_type": "code",
   "execution_count": null,
   "metadata": {},
   "outputs": [],
   "source": []
  },
  {
   "cell_type": "code",
   "execution_count": null,
   "metadata": {},
   "outputs": [],
   "source": []
  },
  {
   "cell_type": "code",
   "execution_count": null,
   "metadata": {},
   "outputs": [],
   "source": []
  },
  {
   "cell_type": "code",
   "execution_count": null,
   "metadata": {},
   "outputs": [],
   "source": []
  },
  {
   "cell_type": "code",
   "execution_count": null,
   "metadata": {},
   "outputs": [],
   "source": []
  }
 ],
 "metadata": {
  "kernelspec": {
   "display_name": "Python 3",
   "language": "python",
   "name": "python3"
  },
  "language_info": {
   "codemirror_mode": {
    "name": "ipython",
    "version": 3
   },
   "file_extension": ".py",
   "mimetype": "text/x-python",
   "name": "python",
   "nbconvert_exporter": "python",
   "pygments_lexer": "ipython3",
   "version": "3.7.4"
  }
 },
 "nbformat": 4,
 "nbformat_minor": 4
}
